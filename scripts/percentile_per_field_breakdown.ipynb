{
 "cells": [
  {
   "cell_type": "code",
   "execution_count": 1,
   "metadata": {
    "collapsed": true
   },
   "outputs": [],
   "source": [
    "import MySQLdb as mysql\n",
    "db=mysql.connect(host=\"wos2.cvirc91pe37a.us-east-1.rds.amazonaws.com\",user=\"benjaminglick\"\n",
    "                 ,passwd=\"cfa1fc20f3a7475aa41c\",db=\"wos2\")\n"
   ]
  },
  {
   "cell_type": "code",
   "execution_count": null,
   "metadata": {},
   "outputs": [],
   "source": []
  },
  {
   "cell_type": "code",
   "execution_count": null,
   "metadata": {
    "collapsed": true
   },
   "outputs": [],
   "source": []
  },
  {
   "cell_type": "code",
   "execution_count": 2,
   "metadata": {},
   "outputs": [],
   "source": [
    "topics=[\"Telecommunications\", \"Mathematics\", \"Paleontology\", \"Computer Science, Information Systems\", \"Engineering, Electrical & Electronic\",\"Energy & Fuels\",\"Environmental Sciences & Ecology\",\"Nursing\",\"Limnology\",\"Physics, Applied\",\"Hematology\",\"Life Sciences & Biomedicine - Other Topics\",\"Literary Reviews\", \"History\" \"Women's Studies\"]"
   ]
  },
  {
   "cell_type": "code",
   "execution_count": 3,
   "metadata": {},
   "outputs": [
    {
     "name": "stdout",
     "output_type": "stream",
     "text": [
      "SELECT contributors.wos_id, contributors.email_addr, contributors.display_name, COUNT(contributors.wos_id) FROM contributors JOIN subjects ON contributors.wos_id=subjects.wos_id WHERE subject='Telecommunications' GROUP BY contributors.wos_id order by COUNT(contributors.wos_id) DESC;\n"
     ]
    },
    {
     "ename": "TypeError",
     "evalue": "len() takes exactly one argument (2 given)",
     "output_type": "error",
     "traceback": [
      "\u001b[0;31m---------------------------------------------------------------------------\u001b[0m",
      "\u001b[0;31mTypeError\u001b[0m                                 Traceback (most recent call last)",
      "\u001b[0;32m<ipython-input-3-d374f0ce68a1>\u001b[0m in \u001b[0;36m<module>\u001b[0;34m()\u001b[0m\n\u001b[1;32m      5\u001b[0m     \u001b[0mcursor\u001b[0m\u001b[0;34m.\u001b[0m\u001b[0mexecute\u001b[0m\u001b[0;34m(\u001b[0m\u001b[0msql\u001b[0m\u001b[0;34m)\u001b[0m\u001b[0;34m\u001b[0m\u001b[0m\n\u001b[1;32m      6\u001b[0m     \u001b[0mcontribs\u001b[0m\u001b[0;34m=\u001b[0m\u001b[0mcursor\u001b[0m\u001b[0;34m.\u001b[0m\u001b[0mfetchall\u001b[0m\u001b[0;34m(\u001b[0m\u001b[0;34m)\u001b[0m\u001b[0;34m\u001b[0m\u001b[0m\n\u001b[0;32m----> 7\u001b[0;31m     \u001b[0mprint\u001b[0m\u001b[0;34m(\u001b[0m\u001b[0mlen\u001b[0m\u001b[0;34m(\u001b[0m\u001b[0mcontribs\u001b[0m\u001b[0;34m,\u001b[0m \u001b[0mcontribs\u001b[0m\u001b[0;34m)\u001b[0m\u001b[0;34m)\u001b[0m\u001b[0;34m\u001b[0m\u001b[0m\n\u001b[0m\u001b[1;32m      8\u001b[0m     \u001b[0mpercentile_size\u001b[0m\u001b[0;34m=\u001b[0m\u001b[0mlen\u001b[0m\u001b[0;34m(\u001b[0m\u001b[0mcontribs\u001b[0m\u001b[0;34m)\u001b[0m\u001b[0;34m/\u001b[0m\u001b[0;36m100\u001b[0m\u001b[0;34m\u001b[0m\u001b[0m\n\u001b[1;32m      9\u001b[0m     \u001b[0;32mimport\u001b[0m \u001b[0mjson\u001b[0m\u001b[0;34m\u001b[0m\u001b[0m\n",
      "\u001b[0;31mTypeError\u001b[0m: len() takes exactly one argument (2 given)"
     ]
    }
   ],
   "source": [
    "for topic in topics:\n",
    "    cursor = mysql.cursors.SSCursor(db)\n",
    "    sql=\"\"\"SELECT contributors.wos_id, contributors.email_addr, contributors.display_name, COUNT(contributors.wos_id) FROM contributors JOIN subjects ON contributors.wos_id=subjects.wos_id WHERE subject='{}' GROUP BY contributors.wos_id order by COUNT(contributors.wos_id) DESC;\"\"\".format(mysql.escape_string(topic).decode(\"utf-8\"))\n",
    "    print(sql)\n",
    "    cursor.execute(sql)\n",
    "    contribs=cursor.fetchall()\n",
    "    print(len(contribs, contribs))\n",
    "    percentile_size=len(contribs)/100\n",
    "    import json\n",
    "    percentile_out={}\n",
    "    for percentile in range(99,0,-1):\n",
    "        total=percentile_size\n",
    "        n_1=int(percentile_size*(percentile+1))\n",
    "        n_2=int(percentile_size*(percentile))\n",
    "        percentile_contributors=contribs[n_2:n_1]\n",
    "        print(percentile_contributors)\n",
    "        percentile_emails=sum(x[1] is not None for x in percentile_contributors)\n",
    "        print(percentile_emails)\n",
    "        percentile_out[percentile]=float(float(percentile_emails)/float(total))\n",
    "    output=open(\"output_percentile_{}.json\".format(topic),'w')\n",
    "    output.write(json.dumps(percentile_out, indent=4))\n",
    "    output.close()"
   ]
  },
  {
   "cell_type": "code",
   "execution_count": null,
   "metadata": {
    "collapsed": true
   },
   "outputs": [],
   "source": []
  },
  {
   "cell_type": "code",
   "execution_count": null,
   "metadata": {
    "collapsed": true
   },
   "outputs": [],
   "source": []
  }
 ],
 "metadata": {
  "kernelspec": {
   "display_name": "Python 3",
   "language": "python",
   "name": "python3"
  },
  "language_info": {
   "codemirror_mode": {
    "name": "ipython",
    "version": 3
   },
   "file_extension": ".py",
   "mimetype": "text/x-python",
   "name": "python",
   "nbconvert_exporter": "python",
   "pygments_lexer": "ipython3",
   "version": "3.5.2"
  }
 },
 "nbformat": 4,
 "nbformat_minor": 2
}
